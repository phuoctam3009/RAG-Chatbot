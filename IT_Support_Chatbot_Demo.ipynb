{
 "cells": [
  {
   "cell_type": "markdown",
   "metadata": {},
   "source": [
    "# IT Support Chatbot - Interactive Notebook\n",
    "\n",
    "This notebook demonstrates the RAG chatbot system with:\n",
    "- Vector store querying\n",
    "- LangChain integration\n",
    "- Function calling\n",
    "- End-to-end chatbot testing"
   ]
  },
  {
   "cell_type": "markdown",
   "metadata": {},
   "source": [
    "## 1. Setup and Imports"
   ]
  },
  {
   "cell_type": "code",
   "execution_count": null,
   "metadata": {},
   "outputs": [],
   "source": [
    "import os\n",
    "import json\n",
    "from dotenv import load_dotenv\n",
    "from chatbot import ITSupportChatbot\n",
    "from function_calling import (\n",
    "    create_support_ticket, \n",
    "    check_ticket_status,\n",
    "    check_system_status,\n",
    "    search_employee_directory\n",
    ")\n",
    "\n",
    "# Load environment variables\n",
    "load_dotenv()\n",
    "\n",
    "print(\"✓ Imports successful\")"
   ]
  },
  {
   "cell_type": "markdown",
   "metadata": {},
   "source": [
    "## 2. Explore Knowledge Base"
   ]
  },
  {
   "cell_type": "code",
   "execution_count": null,
   "metadata": {},
   "outputs": [],
   "source": [
    "# Load and display knowledge base\n",
    "with open('it_knowledge_base.json', 'r') as f:\n",
    "    kb = json.load(f)\n",
    "\n",
    "print(f\"Knowledge Base Statistics:\")\n",
    "print(f\"Total Articles: {len(kb)}\")\n",
    "print(f\"\\nCategories:\")\n",
    "\n",
    "categories = {}\n",
    "for article in kb:\n",
    "    cat = article['category']\n",
    "    categories[cat] = categories.get(cat, 0) + 1\n",
    "\n",
    "for cat, count in categories.items():\n",
    "    print(f\"  • {cat}: {count} article(s)\")\n",
    "\n",
    "print(\"\\nSample Article:\")\n",
    "print(f\"ID: {kb[0]['id']}\")\n",
    "print(f\"Title: {kb[0]['title']}\")\n",
    "print(f\"Category: {kb[0]['category']}\")\n",
    "print(f\"Tags: {', '.join(kb[0]['tags'])}\")"
   ]
  },
  {
   "cell_type": "markdown",
   "metadata": {},
   "source": [
    "## 3. Test Vector Store Retrieval"
   ]
  },
  {
   "cell_type": "code",
   "execution_count": null,
   "metadata": {},
   "outputs": [],
   "source": [
    "from build_vector_store import VectorStoreBuilder\n",
    "\n",
    "# Load vector store\n",
    "builder = VectorStoreBuilder()\n",
    "vector_store = builder.load_vector_store()\n",
    "\n",
    "# Test queries\n",
    "test_queries = [\n",
    "    \"password reset\",\n",
    "    \"vpn not working\",\n",
    "    \"printer offline\",\n",
    "    \"email sync issue\"\n",
    "]\n",
    "\n",
    "for query in test_queries:\n",
    "    print(f\"\\n{'='*60}\")\n",
    "    print(f\"Query: {query}\")\n",
    "    print(f\"{'='*60}\")\n",
    "    \n",
    "    results = vector_store.similarity_search(query, k=2)\n",
    "    \n",
    "    for i, doc in enumerate(results, 1):\n",
    "        print(f\"\\nResult {i}:\")\n",
    "        print(f\"Title: {doc.metadata['title']}\")\n",
    "        print(f\"ID: {doc.metadata['id']}\")\n",
    "        print(f\"Category: {doc.metadata['category']}\")\n",
    "        print(f\"Preview: {doc.page_content[:200]}...\")"
   ]
  },
  {
   "cell_type": "markdown",
   "metadata": {},
   "source": [
    "## 4. Initialize Chatbot"
   ]
  },
  {
   "cell_type": "code",
   "execution_count": null,
   "metadata": {},
   "outputs": [],
   "source": [
    "# Initialize the chatbot\n",
    "chatbot = ITSupportChatbot()\n",
    "print(\"Chatbot initialized and ready!\")"
   ]
  },
  {
   "cell_type": "markdown",
   "metadata": {},
   "source": [
    "## 5. Test Chatbot Responses"
   ]
  },
  {
   "cell_type": "code",
   "execution_count": null,
   "metadata": {},
   "outputs": [],
   "source": [
    "def chat(message):\n",
    "    \"\"\"Helper function to chat with the bot\"\"\"\n",
    "    print(f\"\\n{'='*70}\")\n",
    "    print(f\"You: {message}\")\n",
    "    print(f\"{'='*70}\")\n",
    "    \n",
    "    response, sources, func_result = chatbot.process_message(message)\n",
    "    \n",
    "    print(f\"\\nIT Support: {response}\")\n",
    "    \n",
    "    if sources:\n",
    "        print(f\"\\n📚 Sources Used:\")\n",
    "        for source in sources[:2]:\n",
    "            print(f\"  • {source['title']} (ID: {source['id']})\")\n",
    "    \n",
    "    return response, sources\n",
    "\n",
    "# Test query 1\n",
    "chat(\"How do I reset my password?\")"
   ]
  },
  {
   "cell_type": "code",
   "execution_count": null,
   "metadata": {},
   "outputs": [],
   "source": [
    "# Test query 2\n",
    "chat(\"My computer is running very slow, what should I do?\")"
   ]
  },
  {
   "cell_type": "code",
   "execution_count": null,
   "metadata": {},
   "outputs": [],
   "source": [
    "# Test query 3\n",
    "chat(\"I can't connect to the VPN\")"
   ]
  },
  {
   "cell_type": "code",
   "execution_count": null,
   "metadata": {},
   "outputs": [],
   "source": [
    "# Test query 4 - Follow-up question\n",
    "chat(\"What if I still can't connect after trying those steps?\")"
   ]
  },
  {
   "cell_type": "markdown",
   "metadata": {},
   "source": [
    "## 6. Test Function Calling"
   ]
  },
  {
   "cell_type": "code",
   "execution_count": null,
   "metadata": {},
   "outputs": [],
   "source": [
    "# Test creating a support ticket\n",
    "print(\"Creating a support ticket...\\n\")\n",
    "\n",
    "ticket = create_support_ticket(\n",
    "    title=\"Cannot access shared drive\",\n",
    "    description=\"When I try to access \\\\\\\\fileserver\\\\projects, I get 'Access Denied' error. I need access to work on Q4 reports.\",\n",
    "    category=\"access\",\n",
    "    priority=\"high\"\n",
    ")\n",
    "\n",
    "print(\"Ticket Created:\")\n",
    "print(json.dumps(ticket, indent=2))"
   ]
  },
  {
   "cell_type": "code",
   "execution_count": null,
   "metadata": {},
   "outputs": [],
   "source": [
    "# Test checking ticket status\n",
    "ticket_id = ticket['ticket_id']\n",
    "print(f\"Checking status of ticket: {ticket_id}\\n\")\n",
    "\n",
    "status = check_ticket_status(ticket_id)\n",
    "print(json.dumps(status, indent=2))"
   ]
  },
  {
   "cell_type": "code",
   "execution_count": null,
   "metadata": {},
   "outputs": [],
   "source": [
    "# Test system status check\n",
    "systems = [\"email\", \"vpn\", \"file_server\"]\n",
    "\n",
    "for system in systems:\n",
    "    status = check_system_status(system)\n",
    "    print(f\"\\n{system.upper()}:\")\n",
    "    print(f\"  Status: {status['status']}\")\n",
    "    print(f\"  Uptime: {status.get('uptime', 'N/A')}\")"
   ]
  },
  {
   "cell_type": "code",
   "execution_count": null,
   "metadata": {},
   "outputs": [],
   "source": [
    "# Test employee directory search\n",
    "print(\"Searching for IT Support staff...\\n\")\n",
    "\n",
    "results = search_employee_directory(department=\"IT Support\")\n",
    "\n",
    "for emp in results:\n",
    "    print(f\"Name: {emp['name']}\")\n",
    "    print(f\"Email: {emp['email']}\")\n",
    "    print(f\"Phone: {emp['phone']}\")\n",
    "    print(f\"Location: {emp['location']}\")\n",
    "    print(\"-\" * 50)"
   ]
  },
  {
   "cell_type": "markdown",
   "metadata": {},
   "source": [
    "## 7. Test Conversation Memory"
   ]
  },
  {
   "cell_type": "code",
   "execution_count": null,
   "metadata": {},
   "outputs": [],
   "source": [
    "# Test multi-turn conversation\n",
    "chat(\"I'm having trouble with my email\")"
   ]
  },
  {
   "cell_type": "code",
   "execution_count": null,
   "metadata": {},
   "outputs": [],
   "source": [
    "# Follow-up without context\n",
    "chat(\"What's the mailbox size limit?\")"
   ]
  },
  {
   "cell_type": "code",
   "execution_count": null,
   "metadata": {},
   "outputs": [],
   "source": [
    "# Clear memory and test\n",
    "chatbot.reset_conversation()\n",
    "chat(\"What were we just talking about?\")"
   ]
  },
  {
   "cell_type": "markdown",
   "metadata": {},
   "source": [
    "## 8. Similarity Search Analysis"
   ]
  },
  {
   "cell_type": "code",
   "execution_count": null,
   "metadata": {},
   "outputs": [],
   "source": [
    "# Analyze similarity scores\n",
    "query = \"my account is locked\"\n",
    "\n",
    "# Get results with scores\n",
    "results_with_scores = vector_store.similarity_search_with_score(query, k=5)\n",
    "\n",
    "print(f\"Query: '{query}'\\n\")\n",
    "print(\"Top 5 Results with Similarity Scores:\\n\")\n",
    "\n",
    "for doc, score in results_with_scores:\n",
    "    print(f\"Score: {score:.4f}\")\n",
    "    print(f\"Title: {doc.metadata['title']}\")\n",
    "    print(f\"Category: {doc.metadata['category']}\")\n",
    "    print(f\"ID: {doc.metadata['id']}\")\n",
    "    print(\"-\" * 60)"
   ]
  },
  {
   "cell_type": "markdown",
   "metadata": {},
   "source": [
    "## 9. Batch Testing"
   ]
  },
  {
   "cell_type": "code",
   "execution_count": null,
   "metadata": {},
   "outputs": [],
   "source": [
    "# Batch test multiple queries\n",
    "test_cases = [\n",
    "    \"How do I set up MFA?\",\n",
    "    \"My Teams camera isn't working\",\n",
    "    \"How to backup files?\",\n",
    "    \"Reporting phishing emails\",\n",
    "    \"Mobile email setup for iPhone\"\n",
    "]\n",
    "\n",
    "results = []\n",
    "\n",
    "for query in test_cases:\n",
    "    response, sources, _ = chatbot.process_message(query)\n",
    "    results.append({\n",
    "        'query': query,\n",
    "        'response_length': len(response),\n",
    "        'sources_found': len(sources),\n",
    "        'primary_source': sources[0]['title'] if sources else 'None'\n",
    "    })\n",
    "    \n",
    "    # Reset for next query\n",
    "    chatbot.reset_conversation()\n",
    "\n",
    "# Display results\n",
    "import pandas as pd\n",
    "df = pd.DataFrame(results)\n",
    "print(\"Batch Test Results:\")\n",
    "print(df.to_string(index=False))"
   ]
  },
  {
   "cell_type": "markdown",
   "metadata": {},
   "source": [
    "## 10. Performance Metrics"
   ]
  },
  {
   "cell_type": "code",
   "execution_count": null,
   "metadata": {},
   "outputs": [],
   "source": [
    "import time\n",
    "\n",
    "# Measure response time\n",
    "queries = [\n",
    "    \"password reset\",\n",
    "    \"vpn setup\",\n",
    "    \"printer not working\"\n",
    "]\n",
    "\n",
    "times = []\n",
    "\n",
    "for query in queries:\n",
    "    start = time.time()\n",
    "    response, _, _ = chatbot.process_message(query)\n",
    "    elapsed = time.time() - start\n",
    "    times.append(elapsed)\n",
    "    print(f\"Query: '{query}' - Response time: {elapsed:.2f}s\")\n",
    "    chatbot.reset_conversation()\n",
    "\n",
    "print(f\"\\nAverage response time: {sum(times)/len(times):.2f}s\")\n",
    "print(f\"Min: {min(times):.2f}s, Max: {max(times):.2f}s\")"
   ]
  },
  {
   "cell_type": "markdown",
   "metadata": {},
   "source": [
    "## Summary\n",
    "\n",
    "This notebook demonstrated:\n",
    "1. ✅ Vector store retrieval with FAISS\n",
    "2. ✅ LangChain conversational chain\n",
    "3. ✅ Function calling capabilities\n",
    "4. ✅ Conversation memory\n",
    "5. ✅ Performance metrics\n",
    "\n",
    "The chatbot successfully:\n",
    "- Retrieves relevant knowledge base articles\n",
    "- Maintains conversation context\n",
    "- Executes functions (tickets, status checks)\n",
    "- Provides accurate IT support responses"
   ]
  }
 ],
 "metadata": {
  "kernelspec": {
   "display_name": "Python 3",
   "language": "python",
   "name": "python3"
  },
  "language_info": {
   "codemirror_mode": {
    "name": "ipython",
    "version": 3
   },
   "file_extension": ".py",
   "mimetype": "text/x-python",
   "name": "python",
   "nbconvert_exporter": "python",
   "pygments_lexer": "ipython3",
   "version": "3.8.0"
  }
 },
 "nbformat": 4,
 "nbformat_minor": 4
}
